{
 "cells": [
  {
   "attachments": {},
   "cell_type": "markdown",
   "metadata": {},
   "source": [
    "* Import `pandas` and name as alias `pd`"
   ]
  },
  {
   "cell_type": "code",
   "execution_count": 1,
   "metadata": {},
   "outputs": [],
   "source": [
    "import pandas as pd"
   ]
  },
  {
   "attachments": {},
   "cell_type": "markdown",
   "metadata": {},
   "source": [
    "* Created a new variable `unemployment_df` and set it equal to the imported file `Unemployment in America Per US State.csv`"
   ]
  },
  {
   "cell_type": "code",
   "execution_count": 2,
   "metadata": {},
   "outputs": [
    {
     "data": {
      "text/html": [
       "<div>\n",
       "<style scoped>\n",
       "    .dataframe tbody tr th:only-of-type {\n",
       "        vertical-align: middle;\n",
       "    }\n",
       "\n",
       "    .dataframe tbody tr th {\n",
       "        vertical-align: top;\n",
       "    }\n",
       "\n",
       "    .dataframe thead th {\n",
       "        text-align: right;\n",
       "    }\n",
       "</style>\n",
       "<table border=\"1\" class=\"dataframe\">\n",
       "  <thead>\n",
       "    <tr style=\"text-align: right;\">\n",
       "      <th></th>\n",
       "      <th>FIPS Code</th>\n",
       "      <th>State/Area</th>\n",
       "      <th>Year</th>\n",
       "      <th>Month</th>\n",
       "      <th>Total Civilian Non-Institutional Population in State/Area</th>\n",
       "      <th>Total Civilian Labor Force in State/Area</th>\n",
       "      <th>Percent (%) of State/Area's Population</th>\n",
       "      <th>Total Employment in State/Area</th>\n",
       "      <th>Percent (%) of Labor Force Employed in State/Area</th>\n",
       "      <th>Total Unemployment in State/Area</th>\n",
       "      <th>Percent (%) of Labor Force Unemployed in State/Area</th>\n",
       "    </tr>\n",
       "  </thead>\n",
       "  <tbody>\n",
       "    <tr>\n",
       "      <th>0</th>\n",
       "      <td>1</td>\n",
       "      <td>Alabama</td>\n",
       "      <td>1976</td>\n",
       "      <td>1</td>\n",
       "      <td>2,605,000</td>\n",
       "      <td>1,484,555</td>\n",
       "      <td>57.0</td>\n",
       "      <td>1,386,023</td>\n",
       "      <td>53.2</td>\n",
       "      <td>98,532</td>\n",
       "      <td>6.6</td>\n",
       "    </tr>\n",
       "    <tr>\n",
       "      <th>1</th>\n",
       "      <td>2</td>\n",
       "      <td>Alaska</td>\n",
       "      <td>1976</td>\n",
       "      <td>1</td>\n",
       "      <td>232,000</td>\n",
       "      <td>160,183</td>\n",
       "      <td>69.0</td>\n",
       "      <td>148,820</td>\n",
       "      <td>64.1</td>\n",
       "      <td>11,363</td>\n",
       "      <td>7.1</td>\n",
       "    </tr>\n",
       "    <tr>\n",
       "      <th>2</th>\n",
       "      <td>4</td>\n",
       "      <td>Arizona</td>\n",
       "      <td>1976</td>\n",
       "      <td>1</td>\n",
       "      <td>1,621,000</td>\n",
       "      <td>964,120</td>\n",
       "      <td>59.5</td>\n",
       "      <td>865,871</td>\n",
       "      <td>53.4</td>\n",
       "      <td>98,249</td>\n",
       "      <td>10.2</td>\n",
       "    </tr>\n",
       "    <tr>\n",
       "      <th>3</th>\n",
       "      <td>5</td>\n",
       "      <td>Arkansas</td>\n",
       "      <td>1976</td>\n",
       "      <td>1</td>\n",
       "      <td>1,536,000</td>\n",
       "      <td>889,044</td>\n",
       "      <td>57.9</td>\n",
       "      <td>824,395</td>\n",
       "      <td>53.7</td>\n",
       "      <td>64,649</td>\n",
       "      <td>7.3</td>\n",
       "    </tr>\n",
       "    <tr>\n",
       "      <th>4</th>\n",
       "      <td>6</td>\n",
       "      <td>California</td>\n",
       "      <td>1976</td>\n",
       "      <td>1</td>\n",
       "      <td>15,621,000</td>\n",
       "      <td>9,774,280</td>\n",
       "      <td>62.6</td>\n",
       "      <td>8,875,685</td>\n",
       "      <td>56.8</td>\n",
       "      <td>898,595</td>\n",
       "      <td>9.2</td>\n",
       "    </tr>\n",
       "  </tbody>\n",
       "</table>\n",
       "</div>"
      ],
      "text/plain": [
       "   FIPS Code  State/Area  Year  Month  \\\n",
       "0          1     Alabama  1976      1   \n",
       "1          2      Alaska  1976      1   \n",
       "2          4     Arizona  1976      1   \n",
       "3          5    Arkansas  1976      1   \n",
       "4          6  California  1976      1   \n",
       "\n",
       "  Total Civilian Non-Institutional Population in State/Area  \\\n",
       "0                                       2,605,000             \n",
       "1                                         232,000             \n",
       "2                                       1,621,000             \n",
       "3                                       1,536,000             \n",
       "4                                      15,621,000             \n",
       "\n",
       "  Total Civilian Labor Force in State/Area  \\\n",
       "0                             1,484,555      \n",
       "1                               160,183      \n",
       "2                               964,120      \n",
       "3                               889,044      \n",
       "4                             9,774,280      \n",
       "\n",
       "   Percent (%) of State/Area's Population Total Employment in State/Area  \\\n",
       "0                                    57.0                   1,386,023      \n",
       "1                                    69.0                     148,820      \n",
       "2                                    59.5                     865,871      \n",
       "3                                    57.9                     824,395      \n",
       "4                                    62.6                   8,875,685      \n",
       "\n",
       "   Percent (%) of Labor Force Employed in State/Area  \\\n",
       "0                                               53.2   \n",
       "1                                               64.1   \n",
       "2                                               53.4   \n",
       "3                                               53.7   \n",
       "4                                               56.8   \n",
       "\n",
       "  Total Unemployment in State/Area  \\\n",
       "0                        98,532      \n",
       "1                        11,363      \n",
       "2                        98,249      \n",
       "3                        64,649      \n",
       "4                       898,595      \n",
       "\n",
       "   Percent (%) of Labor Force Unemployed in State/Area  \n",
       "0                                                6.6    \n",
       "1                                                7.1    \n",
       "2                                               10.2    \n",
       "3                                                7.3    \n",
       "4                                                9.2    "
      ]
     },
     "execution_count": 2,
     "metadata": {},
     "output_type": "execute_result"
    }
   ],
   "source": [
    "unemployment_df = pd.read_csv('Unemployment in America Per US State.csv')\n",
    "unemployment_df.head()"
   ]
  },
  {
   "attachments": {},
   "cell_type": "markdown",
   "metadata": {},
   "source": [
    "* Renamed columns `Year` and `State/Area` to `year` and `state`"
   ]
  },
  {
   "cell_type": "code",
   "execution_count": 3,
   "metadata": {},
   "outputs": [],
   "source": [
    "renamed_col_df = unemployment_df.rename(columns={\"Year\":\"year\",\"State/Area\":\"state\"})"
   ]
  },
  {
   "attachments": {},
   "cell_type": "markdown",
   "metadata": {},
   "source": [
    "* Converted cleaned data frame to `clean_unemployment_per_state_in_US.csv` file and exported."
   ]
  },
  {
   "cell_type": "code",
   "execution_count": 4,
   "metadata": {},
   "outputs": [],
   "source": [
    "renamed_col_df.to_csv(\"clean_unemployment_per_state_in_US.csv\", encoding=\"utf-8\", index=False)"
   ]
  }
 ],
 "metadata": {
  "kernelspec": {
   "display_name": "Python 3",
   "language": "python",
   "name": "python3"
  },
  "language_info": {
   "codemirror_mode": {
    "name": "ipython",
    "version": 3
   },
   "file_extension": ".py",
   "mimetype": "text/x-python",
   "name": "python",
   "nbconvert_exporter": "python",
   "pygments_lexer": "ipython3",
   "version": "3.10.10"
  },
  "orig_nbformat": 4
 },
 "nbformat": 4,
 "nbformat_minor": 2
}
