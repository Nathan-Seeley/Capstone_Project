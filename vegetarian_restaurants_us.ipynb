{
 "cells": [
  {
   "cell_type": "code",
   "execution_count": 1,
   "metadata": {},
   "outputs": [],
   "source": [
    "import pandas as pd"
   ]
  },
  {
   "cell_type": "code",
   "execution_count": 2,
   "metadata": {},
   "outputs": [],
   "source": [
    "vegan_restaurants_df = pd.read_csv('vegetarian_restaurants_usa.csv')\n",
    "vegan_restaurants_df.rename(columns={\"province\":\"state\"}, inplace=True)\n",
    "dropped_columns_df = vegan_restaurants_df.drop([\"key\",\"features\",\"menus\",\"languages\",\"hours\",\"images\",\"isClosed\",\"dateOpened\",\"address\",\"categories\",\"claimed\", \"priceRange\",\"dateUpdated\", \"descriptions\",\"facebookPageURL\",\"menuURL\",\"name\",\"paymentTypes\",\"phones\" ,\"postalCode\",\"sic\",\"twitter\",\"websites\",\"cuisines\"], axis=1)\n",
    "cleaned_row_vegan_restaurants = dropped_columns_df\n",
    "no_null_df = cleaned_row_vegan_restaurants.dropna()\n",
    "sorted_df = no_null_df.sort_values(\"city\")\n",
    "sorted_df.to_csv(\"clean_vegetarian_restauant_location.csv\", encoding=\"utf-8\", index=False)\n",
    "\n",
    "\n",
    "\n"
   ]
  }
 ],
 "metadata": {
  "kernelspec": {
   "display_name": "Python 3",
   "language": "python",
   "name": "python3"
  },
  "language_info": {
   "codemirror_mode": {
    "name": "ipython",
    "version": 3
   },
   "file_extension": ".py",
   "mimetype": "text/x-python",
   "name": "python",
   "nbconvert_exporter": "python",
   "pygments_lexer": "ipython3",
   "version": "3.10.10"
  },
  "orig_nbformat": 4
 },
 "nbformat": 4,
 "nbformat_minor": 2
}
