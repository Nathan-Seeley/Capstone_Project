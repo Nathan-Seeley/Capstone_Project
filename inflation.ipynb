{
 "cells": [
  {
   "cell_type": "code",
   "execution_count": 2,
   "metadata": {},
   "outputs": [],
   "source": [
    "import pandas as pd"
   ]
  },
  {
   "cell_type": "code",
   "execution_count": 3,
   "metadata": {},
   "outputs": [],
   "source": [
    "inflation_df = pd.read_csv('US CPI.csv')\n",
    "inflation_df.rename(columns={\"Yearmon\":\"year\"}, inplace=True)\n",
    "inflation_df.rename(columns={\"CPI\":\"cpi\"}, inplace = True)\n",
    "inflation_df[\"year\"] = pd.to_datetime(inflation_df[\"year\"])\n",
    "inflation_df[\"year\"] = inflation_df[\"year\"].dt.strftime('%Y')\n",
    "inflation_df.to_csv(\"clean_inflation.csv\", encoding=\"utf-8\", index=False)"
   ]
  }
 ],
 "metadata": {
  "kernelspec": {
   "display_name": "Python 3",
   "language": "python",
   "name": "python3"
  },
  "language_info": {
   "codemirror_mode": {
    "name": "ipython",
    "version": 3
   },
   "file_extension": ".py",
   "mimetype": "text/x-python",
   "name": "python",
   "nbconvert_exporter": "python",
   "pygments_lexer": "ipython3",
   "version": "3.10.10"
  },
  "orig_nbformat": 4
 },
 "nbformat": 4,
 "nbformat_minor": 2
}
