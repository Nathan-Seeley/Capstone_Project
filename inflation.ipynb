{
 "cells": [
  {
   "cell_type": "code",
   "execution_count": 2,
   "metadata": {},
   "outputs": [],
   "source": [
    "import pandas as pd"
   ]
  },
  {
   "cell_type": "code",
   "execution_count": 3,
   "metadata": {},
   "outputs": [],
   "source": [
    "inflation_df = pd.read_csv('Global Dataset of Inflation.csv')\n",
    "usa_inflation_df = inflation_df[inflation_df[\"Country Code\"] == \"USA\"]\n",
    "food_non_alc_bev_df = usa_inflation_df.loc[[543]]\n",
    "food_df = food_non_alc_bev_df\n",
    "\n",
    "dropped_columns_df = food_df.drop([\"IMF Country Code\",\"Indicator Type\",\"Series Name\",\"Note\", \"Unnamed: 59\", \"Unnamed: 60\",\"Unnamed: 61\",\"Unnamed: 62\",\"Unnamed: 63\" ], axis=1)\n",
    "no_null = dropped_columns_df.dropna()\n",
    "no_dupes = no_null.drop_duplicates()\n",
    "no_dupes[\"country\"] = no_dupes[\"Country\"]\n",
    "food_inflation_df = no_dupes\n",
    "\n",
    "food_inflation_df.to_csv(\"clean_inflation_dataset.csv\", encoding=\"utf-8\", index=False)"
   ]
  }
 ],
 "metadata": {
  "kernelspec": {
   "display_name": "Python 3",
   "language": "python",
   "name": "python3"
  },
  "language_info": {
   "codemirror_mode": {
    "name": "ipython",
    "version": 3
   },
   "file_extension": ".py",
   "mimetype": "text/x-python",
   "name": "python",
   "nbconvert_exporter": "python",
   "pygments_lexer": "ipython3",
   "version": "3.10.10"
  },
  "orig_nbformat": 4
 },
 "nbformat": 4,
 "nbformat_minor": 2
}
