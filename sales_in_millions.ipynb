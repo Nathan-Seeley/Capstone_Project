{
 "cells": [
  {
   "cell_type": "code",
   "execution_count": 26,
   "metadata": {},
   "outputs": [],
   "source": [
    "import pandas as pd"
   ]
  },
  {
   "cell_type": "code",
   "execution_count": 27,
   "metadata": {},
   "outputs": [],
   "source": [
    "job_df = pd.read_csv('alphredgraph_sales_in_millions.csv')\n",
    "renamed_to_sales = job_df.rename(columns={\"MRTSSM7225USN_20230215\": \"sales in millions\",\n",
    "                                         \"DATE\":\"year\"})\n",
    "new_df = renamed_to_sales\n",
    "new_df[\"sales in trillions\"]= new_df[\"sales in millions\"] * .000000001\n",
    "new_df[\"year\"] = pd.to_datetime(new_df[\"year\"])\n",
    "new_df[\"year\"] = new_df[\"year\"].dt.strftime('%Y')\n",
    "dropped_col_df = new_df.drop([\"MRTSSM7225USN_20230118\"], axis=1)\n",
    "job_date_df = dropped_col_df\n",
    "job_date_df.to_csv(\"clean_sales_in_millions.csv\", encoding=\"utf-8\", index=False)"
   ]
  }
 ],
 "metadata": {
  "kernelspec": {
   "display_name": "Python 3",
   "language": "python",
   "name": "python3"
  },
  "language_info": {
   "codemirror_mode": {
    "name": "ipython",
    "version": 3
   },
   "file_extension": ".py",
   "mimetype": "text/x-python",
   "name": "python",
   "nbconvert_exporter": "python",
   "pygments_lexer": "ipython3",
   "version": "3.10.10"
  },
  "orig_nbformat": 4
 },
 "nbformat": 4,
 "nbformat_minor": 2
}
