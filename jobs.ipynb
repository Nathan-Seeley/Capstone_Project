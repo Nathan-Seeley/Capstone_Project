{
 "cells": [
  {
   "cell_type": "code",
   "execution_count": 56,
   "metadata": {},
   "outputs": [],
   "source": [
    "import pandas as pd\n",
    "# from datetime import date\n",
    "import datetime"
   ]
  },
  {
   "cell_type": "code",
   "execution_count": 57,
   "metadata": {},
   "outputs": [],
   "source": [
    "job_df = pd.read_csv('job_per_year.csv')\n",
    "renamed_to_jobs = job_df.rename(columns={\"IPUTN722511W200000000\": \"jobs in k\",\n",
    "                                         \"DATE\":\"year\"})\n",
    "new_df = renamed_to_jobs\n",
    "new_df[\"jobs in millions\"]= new_df[\"jobs in k\"] * 00.1\n",
    "\n",
    "new_df[\"year\"] = pd.to_datetime(new_df[\"year\"])\n",
    "new_df[\"year\"] = new_df[\"year\"].dt.strftime('%Y')\n",
    "job_date_df = new_df\n",
    "job_date_df.to_csv(\"clean_job_year.csv\", encoding=\"utf-8\", index=False)\n",
    "\n"
   ]
  }
 ],
 "metadata": {
  "kernelspec": {
   "display_name": "Python 3",
   "language": "python",
   "name": "python3"
  },
  "language_info": {
   "codemirror_mode": {
    "name": "ipython",
    "version": 3
   },
   "file_extension": ".py",
   "mimetype": "text/x-python",
   "name": "python",
   "nbconvert_exporter": "python",
   "pygments_lexer": "ipython3",
   "version": "3.10.10"
  },
  "orig_nbformat": 4
 },
 "nbformat": 4,
 "nbformat_minor": 2
}
