{
 "cells": [
  {
   "attachments": {},
   "cell_type": "markdown",
   "metadata": {},
   "source": [
    "* Import `pandas` and name as alias `pd`"
   ]
  },
  {
   "cell_type": "code",
   "execution_count": 9,
   "metadata": {},
   "outputs": [],
   "source": [
    "import pandas as pd"
   ]
  },
  {
   "attachments": {},
   "cell_type": "markdown",
   "metadata": {},
   "source": [
    "* Create dictionary with `school name, city, state,latitude and longitude` ``keys`` with corresponding `` values ``"
   ]
  },
  {
   "cell_type": "code",
   "execution_count": 10,
   "metadata": {},
   "outputs": [],
   "source": [
    "school_dictionary = {\"school name\" : [\"Auguste Escoffier School of Culinary Arts\", \"Institute of Culinary Education\",\"Institute of Culinary Education\"],\n",
    "                     \"city\" : [\"Denver\", \"New York\", \"Los Angeles\"],\n",
    "                     \"state\" : [\"CO\", \"NY\", \"CA\"],\n",
    "                     \"latitude\" : [40.014984, 40.730610, 34.052235],\n",
    "                     \"longitude\" : [-105.270546, -73.935242, -118.243683]}"
   ]
  },
  {
   "attachments": {},
   "cell_type": "markdown",
   "metadata": {},
   "source": [
    "* Using ``key : value`` pairs create a dataframe and set it equal to the object variable `school_df`"
   ]
  },
  {
   "cell_type": "code",
   "execution_count": 11,
   "metadata": {},
   "outputs": [],
   "source": [
    "school_df = pd.DataFrame(school_dictionary)"
   ]
  },
  {
   "attachments": {},
   "cell_type": "markdown",
   "metadata": {},
   "source": [
    "* Export new object `school_df` to new `clean_school_location.csv` file"
   ]
  },
  {
   "cell_type": "code",
   "execution_count": 12,
   "metadata": {},
   "outputs": [],
   "source": [
    "school_df.to_csv(\"clean_school_location.csv\", encoding= 'utf-8', index = False)"
   ]
  }
 ],
 "metadata": {
  "kernelspec": {
   "display_name": "Python 3",
   "language": "python",
   "name": "python3"
  },
  "language_info": {
   "codemirror_mode": {
    "name": "ipython",
    "version": 3
   },
   "file_extension": ".py",
   "mimetype": "text/x-python",
   "name": "python",
   "nbconvert_exporter": "python",
   "pygments_lexer": "ipython3",
   "version": "3.10.10"
  },
  "orig_nbformat": 4
 },
 "nbformat": 4,
 "nbformat_minor": 2
}
