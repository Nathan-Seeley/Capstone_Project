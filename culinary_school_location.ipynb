{
 "cells": [
  {
   "cell_type": "code",
   "execution_count": 3,
   "metadata": {},
   "outputs": [],
   "source": [
    "import pandas as pd"
   ]
  },
  {
   "cell_type": "code",
   "execution_count": 4,
   "metadata": {},
   "outputs": [
    {
     "data": {
      "text/html": [
       "<div>\n",
       "<style scoped>\n",
       "    .dataframe tbody tr th:only-of-type {\n",
       "        vertical-align: middle;\n",
       "    }\n",
       "\n",
       "    .dataframe tbody tr th {\n",
       "        vertical-align: top;\n",
       "    }\n",
       "\n",
       "    .dataframe thead th {\n",
       "        text-align: right;\n",
       "    }\n",
       "</style>\n",
       "<table border=\"1\" class=\"dataframe\">\n",
       "  <thead>\n",
       "    <tr style=\"text-align: right;\">\n",
       "      <th></th>\n",
       "      <th>school name</th>\n",
       "      <th>city</th>\n",
       "      <th>state</th>\n",
       "      <th>latitude</th>\n",
       "      <th>longitude</th>\n",
       "    </tr>\n",
       "  </thead>\n",
       "  <tbody>\n",
       "    <tr>\n",
       "      <th>0</th>\n",
       "      <td>Auguste Escoffier School of Culinary Arts</td>\n",
       "      <td>Boulder</td>\n",
       "      <td>CO</td>\n",
       "      <td>40.014984</td>\n",
       "      <td>-105.270546</td>\n",
       "    </tr>\n",
       "    <tr>\n",
       "      <th>1</th>\n",
       "      <td>Institure of Culinary Education</td>\n",
       "      <td>New York</td>\n",
       "      <td>NY</td>\n",
       "      <td>40.730610</td>\n",
       "      <td>-73.935242</td>\n",
       "    </tr>\n",
       "    <tr>\n",
       "      <th>2</th>\n",
       "      <td>Institute of Culinary Education</td>\n",
       "      <td>Los Angeles</td>\n",
       "      <td>CA</td>\n",
       "      <td>34.052235</td>\n",
       "      <td>-118.243683</td>\n",
       "    </tr>\n",
       "  </tbody>\n",
       "</table>\n",
       "</div>"
      ],
      "text/plain": [
       "                                 school name         city state   latitude  \\\n",
       "0  Auguste Escoffier School of Culinary Arts      Boulder    CO  40.014984   \n",
       "1            Institure of Culinary Education     New York    NY  40.730610   \n",
       "2            Institute of Culinary Education  Los Angeles    CA  34.052235   \n",
       "\n",
       "    longitude  \n",
       "0 -105.270546  \n",
       "1  -73.935242  \n",
       "2 -118.243683  "
      ]
     },
     "execution_count": 4,
     "metadata": {},
     "output_type": "execute_result"
    }
   ],
   "source": [
    "school_dictionary = {\"school name\" : [\"Auguste Escoffier School of Culinary Arts\", \"Institute of Culinary Education\",\"Institute of Culinary Education\"],\n",
    "                     \"city\" : [\"Boulder\", \"New York\", \"Los Angeles\"],\n",
    "                     \"state\" : [\"CO\", \"NY\", \"CA\"],\n",
    "                     \"latitude\" : [40.014984, 40.730610, 34.052235],\n",
    "                     \"longitude\" : [-105.270546, -73.935242, -118.243683]}\n",
    "school_df = pd.DataFrame(school_dictionary)\n",
    "school_df\n",
    "# school_df.to_csv(\"clean_school_location.csv\", encoding= 'utf-8', index = False)"
   ]
  }
 ],
 "metadata": {
  "kernelspec": {
   "display_name": "Python 3",
   "language": "python",
   "name": "python3"
  },
  "language_info": {
   "codemirror_mode": {
    "name": "ipython",
    "version": 3
   },
   "file_extension": ".py",
   "mimetype": "text/x-python",
   "name": "python",
   "nbconvert_exporter": "python",
   "pygments_lexer": "ipython3",
   "version": "3.10.10"
  },
  "orig_nbformat": 4
 },
 "nbformat": 4,
 "nbformat_minor": 2
}
