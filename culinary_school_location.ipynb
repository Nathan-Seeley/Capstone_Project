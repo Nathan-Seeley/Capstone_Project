{
 "cells": [
  {
   "cell_type": "code",
   "execution_count": 17,
   "metadata": {},
   "outputs": [],
   "source": [
    "import pandas as pd"
   ]
  },
  {
   "cell_type": "code",
   "execution_count": 18,
   "metadata": {},
   "outputs": [
    {
     "name": "stdout",
     "output_type": "stream",
     "text": [
      "                                 school name         city state  latitude  \\\n",
      "0  Aufuste Escoffier School of Culinary Arts      Boulder    CO   39.9826   \n",
      "1            Institure of Culinary Education     New York    NY   40.7120   \n",
      "2            Institute of Culinary Education  Los Angeles    CA   34.1448   \n",
      "\n",
      "   longitude  \n",
      "0   105.2494  \n",
      "1    74.0151  \n",
      "2   118.1394  \n"
     ]
    }
   ],
   "source": [
    "school_dictionary = {\"school name\" : [\"Aufuste Escoffier School of Culinary Arts\", \"Institure of Culinary Education\",\"Institute of Culinary Education\"],\n",
    "                     \"city\" : [\"Boulder\", \"New York\", \"Los Angeles\"],\n",
    "                     \"state\" : [\"CO\", \"NY\", \"CA\"],\n",
    "                     \"latitude\" : [39.9826, 40.7120, 34.1448],\n",
    "                     \"longitude\" : [105.2494, 74.0151, 118.1394]}\n",
    "school_df = pd.DataFrame(school_dictionary)\n",
    "school_df.to_csv(\"school_location.csv\", encoding= 'utf-8', index = False)"
   ]
  }
 ],
 "metadata": {
  "kernelspec": {
   "display_name": "Python 3",
   "language": "python",
   "name": "python3"
  },
  "language_info": {
   "codemirror_mode": {
    "name": "ipython",
    "version": 3
   },
   "file_extension": ".py",
   "mimetype": "text/x-python",
   "name": "python",
   "nbconvert_exporter": "python",
   "pygments_lexer": "ipython3",
   "version": "3.10.10"
  },
  "orig_nbformat": 4
 },
 "nbformat": 4,
 "nbformat_minor": 2
}
